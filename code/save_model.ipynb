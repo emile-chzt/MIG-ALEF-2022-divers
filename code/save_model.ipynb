{
 "cells": [
  {
   "cell_type": "markdown",
   "metadata": {},
   "source": [
    "# réduire le temps de chargement de l'objet 'model'\n",
    "\n",
    "\n",
    "objectif : dans le code d'annaëlle, dans le fichier 'single-area-multi-period.py', sauvegarder et charger l'objet model (ça prendra ensuite ~30s)"
   ]
  },
  {
   "cell_type": "markdown",
   "metadata": {},
   "source": [
    "- installer cloudpickle"
   ]
  },
  {
   "cell_type": "code",
   "execution_count": null,
   "metadata": {},
   "outputs": [],
   "source": [
    "import cloudpickle "
   ]
  },
  {
   "cell_type": "code",
   "execution_count": null,
   "metadata": {},
   "outputs": [],
   "source": [
    "# sauvegarder model\n",
    "\n",
    "# après \n",
    "model = systemModelPedro(scenario,isAbstract=False)\n",
    "\n",
    "# mettre \n",
    "with open('model.pkl', mode='wb') as file:\n",
    "    cloudpickle.dump(model, file)"
   ]
  },
  {
   "cell_type": "markdown",
   "metadata": {},
   "source": [
    "ensuite commenter ce qui précède et mettre"
   ]
  },
  {
   "cell_type": "code",
   "execution_count": null,
   "metadata": {},
   "outputs": [],
   "source": [
    "# charger model\n",
    "\n",
    "with open('model.pkl', mode='rb') as file:\n",
    "   model = cloudpickle.load(file)"
   ]
  },
  {
   "cell_type": "markdown",
   "metadata": {},
   "source": [
    "j'ai pas réussi à faire de même pour l'objet `opt` car cloudpickle râle"
   ]
  }
 ],
 "metadata": {
  "language_info": {
   "name": "python"
  },
  "orig_nbformat": 4
 },
 "nbformat": 4,
 "nbformat_minor": 2
}
