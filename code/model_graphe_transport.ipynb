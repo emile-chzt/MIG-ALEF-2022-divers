{
 "cells": [
  {
   "cell_type": "markdown",
   "id": "f579bf93",
   "metadata": {},
   "source": [
    "# ***modele type graphe d'étude couts-production de la côte d'azur***\n",
    "\n",
    "unités tonne par défaut et €\n",
    "\n",
    "**paramètres du modèle:**"
   ]
  },
  {
   "cell_type": "code",
   "execution_count": null,
   "id": "11876a29",
   "metadata": {},
   "outputs": [],
   "source": [
    "transportation_cost = 1.5 #camion plein\n",
    "production_cost = 5000 #5€/t\n",
    "truck_capacity = 0.600 # IRENA à 600kg pour 200 bar\n",
    "road_cost =  transportation_cost / truck_capacity\n",
    "\n",
    "d_distance_cities = {Marseille : {Fos: 40, Nice : 188}, Nice : {Marseille : 188, Fos: 225}, Fos : {Nice : 225, Marseille : 188}}\n",
    "\n",
    "d_prod_cities = {Fos : 175000, Nice = 0, Marseille = 200}\n",
    "\n",
    "d_conso_cities = {Fos : 150000, Nice = 200, Marseille = 500}\n",
    "\n",
    "def cost_prod(H2_tons):\n",
    "    if H2_tons > 1000:\n",
    "        return H2_tons * 3\n",
    "    else : return H2_tons * 5\n",
    "    \n",
    "def cost_import(city, H2_need):\n",
    "    \n",
    "\n",
    "d_cost_cities = {}\n",
    "\n",
    "for city,prod in d_prod_cities.items():\n",
    "\n",
    "        H2_need = d_conso_cities{city} - prod\n",
    "        d_cost_cities{city} = cost_prod(prod) + cost_import(city, H2_need)\n",
    "        \n",
    "    "
   ]
  }
 ],
 "metadata": {
  "kernelspec": {
   "display_name": "Python 3 (ipykernel)",
   "language": "python",
   "name": "python3"
  },
  "language_info": {
   "codemirror_mode": {
    "name": "ipython",
    "version": 3
   },
   "file_extension": ".py",
   "mimetype": "text/x-python",
   "name": "python",
   "nbconvert_exporter": "python",
   "pygments_lexer": "ipython3",
   "version": "3.9.6"
  }
 },
 "nbformat": 4,
 "nbformat_minor": 5
}
